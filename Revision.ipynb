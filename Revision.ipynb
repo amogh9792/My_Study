{
 "cells": [
  {
   "cell_type": "markdown",
   "id": "3bd1487f",
   "metadata": {},
   "source": [
    "1. Write a function to find the length of a string without using inbuilt 'len' \n",
    "function"
   ]
  },
  {
   "cell_type": "code",
   "execution_count": 21,
   "id": "a2f72baa",
   "metadata": {},
   "outputs": [],
   "source": [
    "def findlen(a:str):\n",
    "    '''\n",
    "    Calculates the length of a string\n",
    "    '''\n",
    "    sum = 0\n",
    "    for i in a:\n",
    "        sum += 1\n",
    "    return sum"
   ]
  },
  {
   "cell_type": "code",
   "execution_count": 20,
   "id": "498e71f3",
   "metadata": {},
   "outputs": [
    {
     "data": {
      "text/plain": [
       "5"
      ]
     },
     "execution_count": 20,
     "metadata": {},
     "output_type": "execute_result"
    }
   ],
   "source": [
    "a = \"amogh\"\n",
    "findlen(a)"
   ]
  },
  {
   "cell_type": "markdown",
   "id": "c4a37e89",
   "metadata": {},
   "source": [
    "2. Write a function which will be able to print an index of list element\n",
    "without using index function"
   ]
  },
  {
   "cell_type": "code",
   "execution_count": 30,
   "id": "315b059d",
   "metadata": {},
   "outputs": [],
   "source": [
    "def print_ind(li: list):\n",
    "    index = 0\n",
    "    for i in li:\n",
    "        \n",
    "        print(f\"The index of element {i} is {index}\")\n",
    "        \n",
    "        index += 1\n",
    "        \n",
    "    return index"
   ]
  },
  {
   "cell_type": "code",
   "execution_count": 31,
   "id": "eaeff354",
   "metadata": {},
   "outputs": [
    {
     "name": "stdout",
     "output_type": "stream",
     "text": [
      "The index of element 1 is 0\n",
      "The index of element 2 is 1\n",
      "The index of element 3 is 2\n",
      "The index of element 4 is 3\n"
     ]
    },
    {
     "data": {
      "text/plain": [
       "4"
      ]
     },
     "execution_count": 31,
     "metadata": {},
     "output_type": "execute_result"
    }
   ],
   "source": [
    "li = [1,2,3,4]\n",
    "\n",
    "print_ind(li)"
   ]
  },
  {
   "cell_type": "markdown",
   "id": "d9dcf02b",
   "metadata": {},
   "source": [
    "3. Write a function that calculates the factorial of a given positive integer."
   ]
  },
  {
   "cell_type": "code",
   "execution_count": 64,
   "id": "62548b38",
   "metadata": {},
   "outputs": [],
   "source": [
    "def fact(a: int):\n",
    "    \n",
    "    factorial = 1\n",
    "    \n",
    "    for i in range(2, a+1):\n",
    "        \n",
    "        factorial = factorial * i\n",
    "        \n",
    "    return factorial       "
   ]
  },
  {
   "cell_type": "code",
   "execution_count": 65,
   "id": "bc25dbdf",
   "metadata": {},
   "outputs": [
    {
     "data": {
      "text/plain": [
       "120"
      ]
     },
     "execution_count": 65,
     "metadata": {},
     "output_type": "execute_result"
    }
   ],
   "source": [
    "fact(5)"
   ]
  },
  {
   "cell_type": "markdown",
   "id": "dba073a9",
   "metadata": {},
   "source": [
    "4. Write a program that finds the largest element in a list of numbers."
   ]
  },
  {
   "cell_type": "code",
   "execution_count": 76,
   "id": "1e5f4a6c",
   "metadata": {},
   "outputs": [],
   "source": [
    "def callarge(li:list):\n",
    "    \n",
    "    largest = li[0]\n",
    "    \n",
    "    for i in li:\n",
    "        \n",
    "        if i > largest:\n",
    "            \n",
    "            largest = i\n",
    "            \n",
    "    return largest"
   ]
  },
  {
   "cell_type": "code",
   "execution_count": 78,
   "id": "d8655ab5",
   "metadata": {},
   "outputs": [
    {
     "data": {
      "text/plain": [
       "570"
      ]
     },
     "execution_count": 78,
     "metadata": {},
     "output_type": "execute_result"
    }
   ],
   "source": [
    "li = [1,2,3,4,570]\n",
    "callarge(li)"
   ]
  },
  {
   "cell_type": "markdown",
   "id": "f1e9aa09",
   "metadata": {},
   "source": [
    "6. Write a Python function to reverse a list."
   ]
  },
  {
   "cell_type": "code",
   "execution_count": 88,
   "id": "1c8d2fbd",
   "metadata": {},
   "outputs": [],
   "source": [
    "def rev(lis: list):\n",
    "    \n",
    "    return lis[::-1]"
   ]
  },
  {
   "cell_type": "code",
   "execution_count": 90,
   "id": "8c0b7b70",
   "metadata": {},
   "outputs": [
    {
     "data": {
      "text/plain": [
       "['Amogh', 5, 4, 3, 2, 1]"
      ]
     },
     "execution_count": 90,
     "metadata": {},
     "output_type": "execute_result"
    }
   ],
   "source": [
    "lis = [1,2,3,4,5,\"Amogh\"]\n",
    "\n",
    "rev(lis)"
   ]
  },
  {
   "cell_type": "markdown",
   "id": "8b5aa192",
   "metadata": {},
   "source": [
    "7. Function to Check if a Number is Even"
   ]
  },
  {
   "cell_type": "code",
   "execution_count": 94,
   "id": "fddbd995",
   "metadata": {},
   "outputs": [],
   "source": [
    "def evencheck(a : int):\n",
    "    \n",
    "    if a % 2 == 0:\n",
    "        print(\"The number is even\")\n",
    "    else:\n",
    "        print(\"The number is odd\")"
   ]
  },
  {
   "cell_type": "code",
   "execution_count": 95,
   "id": "c2dcb77b",
   "metadata": {},
   "outputs": [
    {
     "name": "stdout",
     "output_type": "stream",
     "text": [
      "The number is even\n"
     ]
    }
   ],
   "source": [
    "evencheck(8)"
   ]
  },
  {
   "cell_type": "markdown",
   "id": "82146ddd",
   "metadata": {},
   "source": [
    "8. Write a function to check whether a string is palindrome or not"
   ]
  },
  {
   "cell_type": "code",
   "execution_count": 97,
   "id": "95de3b75",
   "metadata": {},
   "outputs": [],
   "source": [
    "def pali(st : str):\n",
    "    if st[::-1] == st:\n",
    "        print(\"It is a palindrome\")\n",
    "        \n",
    "    else:\n",
    "        print(\"It is not a palindrome\")"
   ]
  },
  {
   "cell_type": "code",
   "execution_count": 99,
   "id": "b237a949",
   "metadata": {},
   "outputs": [
    {
     "name": "stdout",
     "output_type": "stream",
     "text": [
      "It is not a palindrome\n"
     ]
    }
   ],
   "source": [
    "pali(\"env\")"
   ]
  },
  {
   "cell_type": "markdown",
   "id": "4e73a646",
   "metadata": {},
   "source": [
    "10.Write a program that calculates the average of numbers in a list"
   ]
  },
  {
   "cell_type": "code",
   "execution_count": 107,
   "id": "7fd245d8",
   "metadata": {},
   "outputs": [],
   "source": [
    "def average(list1 : int):\n",
    "    sum = 0\n",
    "    avg = 0\n",
    "    count = 0\n",
    "    \n",
    "    for i in list1:\n",
    "        sum = sum+i\n",
    "        count = count + 1\n",
    "        avg = sum/count\n",
    "        \n",
    "    return avg\n",
    "        "
   ]
  },
  {
   "cell_type": "code",
   "execution_count": 108,
   "id": "988fef11",
   "metadata": {},
   "outputs": [
    {
     "data": {
      "text/plain": [
       "3"
      ]
     },
     "execution_count": 108,
     "metadata": {},
     "output_type": "execute_result"
    }
   ],
   "source": [
    "list1 = [1,2,3,4,5]\n",
    "\n",
    "average(list1)"
   ]
  },
  {
   "cell_type": "code",
   "execution_count": null,
   "id": "bf654f51",
   "metadata": {},
   "outputs": [],
   "source": []
  },
  {
   "cell_type": "code",
   "execution_count": null,
   "id": "7f054c76",
   "metadata": {},
   "outputs": [],
   "source": []
  }
 ],
 "metadata": {
  "kernelspec": {
   "display_name": "Python 3 (ipykernel)",
   "language": "python",
   "name": "python3"
  },
  "language_info": {
   "codemirror_mode": {
    "name": "ipython",
    "version": 3
   },
   "file_extension": ".py",
   "mimetype": "text/x-python",
   "name": "python",
   "nbconvert_exporter": "python",
   "pygments_lexer": "ipython3",
   "version": "3.11.5"
  }
 },
 "nbformat": 4,
 "nbformat_minor": 5
}
