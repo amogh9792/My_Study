{
 "cells": [
  {
   "cell_type": "markdown",
   "id": "fa9ef01e",
   "metadata": {},
   "source": [
    "1. Write a function to find the length of a string without using inbuilt 'len' \n",
    "function"
   ]
  },
  {
   "cell_type": "code",
   "execution_count": 21,
   "id": "ac5dbcce",
   "metadata": {},
   "outputs": [],
   "source": [
    "def findlen(a:str):\n",
    "    '''\n",
    "    Calculates the length of a string\n",
    "    '''\n",
    "    sum = 0\n",
    "    for i in a:\n",
    "        sum += 1\n",
    "    return sum"
   ]
  },
  {
   "cell_type": "code",
   "execution_count": 20,
   "id": "202fa93d",
   "metadata": {},
   "outputs": [
    {
     "data": {
      "text/plain": [
       "5"
      ]
     },
     "execution_count": 20,
     "metadata": {},
     "output_type": "execute_result"
    }
   ],
   "source": [
    "a = \"amogh\"\n",
    "findlen(a)"
   ]
  },
  {
   "cell_type": "markdown",
   "id": "ae02a88b",
   "metadata": {},
   "source": [
    "2. Write a function which will be able to print an index of list element\n",
    "without using index function"
   ]
  },
  {
   "cell_type": "code",
   "execution_count": 30,
   "id": "17d6226f",
   "metadata": {},
   "outputs": [],
   "source": [
    "def print_ind(li: list):\n",
    "    index = 0\n",
    "    for i in li:\n",
    "        \n",
    "        print(f\"The index of element {i} is {index}\")\n",
    "        \n",
    "        index += 1\n",
    "        \n",
    "    return index"
   ]
  },
  {
   "cell_type": "code",
   "execution_count": 31,
   "id": "cbce0f79",
   "metadata": {},
   "outputs": [
    {
     "name": "stdout",
     "output_type": "stream",
     "text": [
      "The index of element 1 is 0\n",
      "The index of element 2 is 1\n",
      "The index of element 3 is 2\n",
      "The index of element 4 is 3\n"
     ]
    },
    {
     "data": {
      "text/plain": [
       "4"
      ]
     },
     "execution_count": 31,
     "metadata": {},
     "output_type": "execute_result"
    }
   ],
   "source": [
    "li = [1,2,3,4]\n",
    "\n",
    "print_ind(li)"
   ]
  },
  {
   "cell_type": "markdown",
   "id": "c7dc9dc9",
   "metadata": {},
   "source": [
    "3. Write a function that calculates the factorial of a given positive integer."
   ]
  },
  {
   "cell_type": "code",
   "execution_count": 64,
   "id": "d8d9f207",
   "metadata": {},
   "outputs": [],
   "source": [
    "def fact(a: int):\n",
    "    \n",
    "    factorial = 1\n",
    "    \n",
    "    for i in range(2, a+1):\n",
    "        \n",
    "        factorial = factorial * i\n",
    "        \n",
    "    return factorial       "
   ]
  },
  {
   "cell_type": "code",
   "execution_count": 65,
   "id": "21e246a2",
   "metadata": {},
   "outputs": [
    {
     "data": {
      "text/plain": [
       "120"
      ]
     },
     "execution_count": 65,
     "metadata": {},
     "output_type": "execute_result"
    }
   ],
   "source": [
    "fact(5)"
   ]
  },
  {
   "cell_type": "markdown",
   "id": "cb495fcf",
   "metadata": {},
   "source": [
    "4. Write a program that finds the largest element in a list of numbers."
   ]
  },
  {
   "cell_type": "code",
   "execution_count": 76,
   "id": "e61c533c",
   "metadata": {},
   "outputs": [],
   "source": [
    "def callarge(li:list):\n",
    "    \n",
    "    largest = li[0]\n",
    "    \n",
    "    for i in li:\n",
    "        \n",
    "        if i > largest:\n",
    "            \n",
    "            largest = i\n",
    "            \n",
    "    return largest"
   ]
  },
  {
   "cell_type": "code",
   "execution_count": 78,
   "id": "dffb8276",
   "metadata": {},
   "outputs": [
    {
     "data": {
      "text/plain": [
       "570"
      ]
     },
     "execution_count": 78,
     "metadata": {},
     "output_type": "execute_result"
    }
   ],
   "source": [
    "li = [1,2,3,4,570]\n",
    "callarge(li)"
   ]
  },
  {
   "cell_type": "markdown",
   "id": "38d9f36c",
   "metadata": {},
   "source": [
    "6. Write a Python function to reverse a list."
   ]
  },
  {
   "cell_type": "code",
   "execution_count": 88,
   "id": "f73aeafe",
   "metadata": {},
   "outputs": [],
   "source": [
    "def rev(lis: list):\n",
    "    \n",
    "    return lis[::-1]"
   ]
  },
  {
   "cell_type": "code",
   "execution_count": 90,
   "id": "fe0238b7",
   "metadata": {},
   "outputs": [
    {
     "data": {
      "text/plain": [
       "['Amogh', 5, 4, 3, 2, 1]"
      ]
     },
     "execution_count": 90,
     "metadata": {},
     "output_type": "execute_result"
    }
   ],
   "source": [
    "lis = [1,2,3,4,5,\"Amogh\"]\n",
    "\n",
    "rev(lis)"
   ]
  },
  {
   "cell_type": "markdown",
   "id": "acac3198",
   "metadata": {},
   "source": [
    "7. Function to Check if a Number is Even"
   ]
  },
  {
   "cell_type": "code",
   "execution_count": 94,
   "id": "8db9f79c",
   "metadata": {},
   "outputs": [],
   "source": [
    "def evencheck(a : int):\n",
    "    \n",
    "    if a % 2 == 0:\n",
    "        print(\"The number is even\")\n",
    "    else:\n",
    "        print(\"The number is odd\")"
   ]
  },
  {
   "cell_type": "code",
   "execution_count": 95,
   "id": "a5c85be6",
   "metadata": {},
   "outputs": [
    {
     "name": "stdout",
     "output_type": "stream",
     "text": [
      "The number is even\n"
     ]
    }
   ],
   "source": [
    "evencheck(8)"
   ]
  },
  {
   "cell_type": "markdown",
   "id": "6471110b",
   "metadata": {},
   "source": [
    "8. Write a function to check whether a string is palindrome or not"
   ]
  },
  {
   "cell_type": "code",
   "execution_count": 97,
   "id": "e358401d",
   "metadata": {},
   "outputs": [],
   "source": [
    "def pali(st : str):\n",
    "    if st[::-1] == st:\n",
    "        print(\"It is a palindrome\")\n",
    "        \n",
    "    else:\n",
    "        print(\"It is not a palindrome\")"
   ]
  },
  {
   "cell_type": "code",
   "execution_count": 99,
   "id": "b5b5571a",
   "metadata": {},
   "outputs": [
    {
     "name": "stdout",
     "output_type": "stream",
     "text": [
      "It is not a palindrome\n"
     ]
    }
   ],
   "source": [
    "pali(\"env\")"
   ]
  },
  {
   "cell_type": "code",
   "execution_count": null,
   "id": "f8bba7a0",
   "metadata": {},
   "outputs": [],
   "source": []
  },
  {
   "cell_type": "code",
   "execution_count": null,
   "id": "b9ea4a6d",
   "metadata": {},
   "outputs": [],
   "source": []
  },
  {
   "cell_type": "code",
   "execution_count": null,
   "id": "879f65cc",
   "metadata": {},
   "outputs": [],
   "source": []
  },
  {
   "cell_type": "code",
   "execution_count": null,
   "id": "2cdfeb42",
   "metadata": {},
   "outputs": [],
   "source": []
  },
  {
   "cell_type": "code",
   "execution_count": null,
   "id": "0c68ab1b",
   "metadata": {},
   "outputs": [],
   "source": []
  }
 ],
 "metadata": {
  "kernelspec": {
   "display_name": "Python 3 (ipykernel)",
   "language": "python",
   "name": "python3"
  },
  "language_info": {
   "codemirror_mode": {
    "name": "ipython",
    "version": 3
   },
   "file_extension": ".py",
   "mimetype": "text/x-python",
   "name": "python",
   "nbconvert_exporter": "python",
   "pygments_lexer": "ipython3",
   "version": "3.11.5"
  }
 },
 "nbformat": 4,
 "nbformat_minor": 5
}
